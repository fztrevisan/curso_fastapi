{
 "cells": [
  {
   "cell_type": "markdown",
   "id": "09ec5898",
   "metadata": {},
   "source": [
    "## Test trigger GHA to prevent notebook output"
   ]
  },
  {
   "cell_type": "code",
   "execution_count": null,
   "id": "f7140547",
   "metadata": {},
   "outputs": [],
   "source": [
    "name = \"fernando z trevisan\""
   ]
  },
  {
   "cell_type": "code",
   "execution_count": null,
   "id": "fec9a9a6",
   "metadata": {},
   "outputs": [],
   "source": [
    "print(f\"Hello, {name.title()}!\")"
   ]
  }
 ],
 "metadata": {
  "kernelspec": {
   "display_name": "nbclean",
   "language": "python",
   "name": "python3"
  },
  "language_info": {
   "codemirror_mode": {
    "name": "ipython",
    "version": 3
   },
   "file_extension": ".py",
   "mimetype": "text/x-python",
   "name": "python",
   "nbconvert_exporter": "python",
   "pygments_lexer": "ipython3",
   "version": "3.9.21"
  }
 },
 "nbformat": 4,
 "nbformat_minor": 5
}
